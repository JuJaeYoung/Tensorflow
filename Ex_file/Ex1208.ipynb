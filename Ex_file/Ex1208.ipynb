{
 "cells": [
  {
   "cell_type": "markdown",
   "id": "5113f20f",
   "metadata": {},
   "source": [
    "rms : 센서데이터에서 특정 주기로 값을 추출하는데 주기사이 값들을 잘 설명할 수있는 값으로.. 양,음이 바뀌는 값들의 평균을 측정하는데엔 제곱 평균 제곱근이 최고.. root mean square"
   ]
  },
  {
   "cell_type": "markdown",
   "id": "a6ef5527",
   "metadata": {},
   "source": [
    "1. 라이브러리 호출\n",
    "2. 데이터 불러오기\n",
    "3. 변수 간 관계 확인 시각화"
   ]
  },
  {
   "cell_type": "markdown",
   "id": "4d6e891e",
   "metadata": {},
   "source": [
    "### 1. 라이브러리 호출"
   ]
  },
  {
   "cell_type": "code",
   "execution_count": 1,
   "id": "b6ee19c5",
   "metadata": {},
   "outputs": [],
   "source": [
    "import tensorflow as tf\n",
    "import numpy as np\n",
    "import pandas as pd\n",
    "import matplotlib.pyplot as plt\n",
    "%matplotlib inline\n",
    "import tensorflow.keras as keras\n",
    "from tensorflow.keras.models import Sequential\n",
    "from tensorflow.keras.layers import SimpleRNN, LSTM, GRU, Dropout, Dense\n",
    "from sklearn.preprocessing import MinMaxScaler"
   ]
  },
  {
   "cell_type": "markdown",
   "id": "6d77ad83",
   "metadata": {},
   "source": [
    "### 2. 데이터 불러오기"
   ]
  },
  {
   "cell_type": "code",
   "execution_count": 49,
   "id": "703a5d16",
   "metadata": {},
   "outputs": [],
   "source": [
    "df = pd.read_csv(\"C:/AI/vib_data_new.csv\")\n",
    "df_err = pd.read_csv(\"C:/AI/vib_data_err.csv\")"
   ]
  },
  {
   "cell_type": "code",
   "execution_count": 3,
   "id": "0be4339b",
   "metadata": {},
   "outputs": [
    {
     "data": {
      "text/html": [
       "<div>\n",
       "<style scoped>\n",
       "    .dataframe tbody tr th:only-of-type {\n",
       "        vertical-align: middle;\n",
       "    }\n",
       "\n",
       "    .dataframe tbody tr th {\n",
       "        vertical-align: top;\n",
       "    }\n",
       "\n",
       "    .dataframe thead th {\n",
       "        text-align: right;\n",
       "    }\n",
       "</style>\n",
       "<table border=\"1\" class=\"dataframe\">\n",
       "  <thead>\n",
       "    <tr style=\"text-align: right;\">\n",
       "      <th></th>\n",
       "      <th>s_measuretime</th>\n",
       "      <th>s_nodeid</th>\n",
       "      <th>s_volt</th>\n",
       "      <th>s_type</th>\n",
       "      <th>s_rmsx</th>\n",
       "      <th>s_rmsy</th>\n",
       "      <th>s_rmsz</th>\n",
       "      <th>s_temp</th>\n",
       "      <th>s_dir</th>\n",
       "      <th>v_type</th>\n",
       "      <th>v_lvol</th>\n",
       "      <th>v_rvol</th>\n",
       "      <th>v_ldir</th>\n",
       "      <th>v_rdir</th>\n",
       "      <th>vec</th>\n",
       "      <th>seta</th>\n",
       "    </tr>\n",
       "  </thead>\n",
       "  <tbody>\n",
       "    <tr>\n",
       "      <th>0</th>\n",
       "      <td>2022-11-09 9:51</td>\n",
       "      <td>0</td>\n",
       "      <td>3</td>\n",
       "      <td>8</td>\n",
       "      <td>0.47323</td>\n",
       "      <td>0.35717</td>\n",
       "      <td>0.32355</td>\n",
       "      <td>23</td>\n",
       "      <td>0</td>\n",
       "      <td>1</td>\n",
       "      <td>1</td>\n",
       "      <td>0</td>\n",
       "      <td>0</td>\n",
       "      <td>0</td>\n",
       "      <td>0.675427</td>\n",
       "      <td>105.025</td>\n",
       "    </tr>\n",
       "    <tr>\n",
       "      <th>1</th>\n",
       "      <td>2022-11-09 9:52</td>\n",
       "      <td>0</td>\n",
       "      <td>3</td>\n",
       "      <td>8</td>\n",
       "      <td>0.47376</td>\n",
       "      <td>0.35143</td>\n",
       "      <td>0.31766</td>\n",
       "      <td>23</td>\n",
       "      <td>0</td>\n",
       "      <td>1</td>\n",
       "      <td>1</td>\n",
       "      <td>0</td>\n",
       "      <td>0</td>\n",
       "      <td>0</td>\n",
       "      <td>0.669970</td>\n",
       "      <td>104.944</td>\n",
       "    </tr>\n",
       "    <tr>\n",
       "      <th>2</th>\n",
       "      <td>2022-11-09 9:53</td>\n",
       "      <td>0</td>\n",
       "      <td>3</td>\n",
       "      <td>8</td>\n",
       "      <td>0.46836</td>\n",
       "      <td>0.35561</td>\n",
       "      <td>0.31594</td>\n",
       "      <td>23</td>\n",
       "      <td>0</td>\n",
       "      <td>1</td>\n",
       "      <td>1</td>\n",
       "      <td>0</td>\n",
       "      <td>0</td>\n",
       "      <td>0</td>\n",
       "      <td>0.667561</td>\n",
       "      <td>104.991</td>\n",
       "    </tr>\n",
       "    <tr>\n",
       "      <th>3</th>\n",
       "      <td>2022-11-09 9:54</td>\n",
       "      <td>0</td>\n",
       "      <td>3</td>\n",
       "      <td>8</td>\n",
       "      <td>0.47408</td>\n",
       "      <td>0.35575</td>\n",
       "      <td>0.31676</td>\n",
       "      <td>23</td>\n",
       "      <td>0</td>\n",
       "      <td>1</td>\n",
       "      <td>1</td>\n",
       "      <td>0</td>\n",
       "      <td>0</td>\n",
       "      <td>0</td>\n",
       "      <td>0.672047</td>\n",
       "      <td>104.947</td>\n",
       "    </tr>\n",
       "    <tr>\n",
       "      <th>4</th>\n",
       "      <td>2022-11-09 9:55</td>\n",
       "      <td>0</td>\n",
       "      <td>3</td>\n",
       "      <td>8</td>\n",
       "      <td>0.48104</td>\n",
       "      <td>0.35758</td>\n",
       "      <td>0.32425</td>\n",
       "      <td>23</td>\n",
       "      <td>0</td>\n",
       "      <td>1</td>\n",
       "      <td>1</td>\n",
       "      <td>0</td>\n",
       "      <td>0</td>\n",
       "      <td>0</td>\n",
       "      <td>0.681470</td>\n",
       "      <td>104.963</td>\n",
       "    </tr>\n",
       "  </tbody>\n",
       "</table>\n",
       "</div>"
      ],
      "text/plain": [
       "     s_measuretime  s_nodeid  s_volt  s_type   s_rmsx   s_rmsy   s_rmsz  \\\n",
       "0  2022-11-09 9:51         0       3       8  0.47323  0.35717  0.32355   \n",
       "1  2022-11-09 9:52         0       3       8  0.47376  0.35143  0.31766   \n",
       "2  2022-11-09 9:53         0       3       8  0.46836  0.35561  0.31594   \n",
       "3  2022-11-09 9:54         0       3       8  0.47408  0.35575  0.31676   \n",
       "4  2022-11-09 9:55         0       3       8  0.48104  0.35758  0.32425   \n",
       "\n",
       "   s_temp  s_dir  v_type  v_lvol  v_rvol  v_ldir  v_rdir       vec    seta   \n",
       "0      23      0       1       1       0       0       0  0.675427  105.025  \n",
       "1      23      0       1       1       0       0       0  0.669970  104.944  \n",
       "2      23      0       1       1       0       0       0  0.667561  104.991  \n",
       "3      23      0       1       1       0       0       0  0.672047  104.947  \n",
       "4      23      0       1       1       0       0       0  0.681470  104.963  "
      ]
     },
     "execution_count": 3,
     "metadata": {},
     "output_type": "execute_result"
    }
   ],
   "source": [
    "df.head()"
   ]
  },
  {
   "cell_type": "code",
   "execution_count": 4,
   "id": "dd0ecf4c",
   "metadata": {},
   "outputs": [
    {
     "name": "stdout",
     "output_type": "stream",
     "text": [
      "<class 'pandas.core.frame.DataFrame'>\n",
      "RangeIndex: 13217 entries, 0 to 13216\n",
      "Data columns (total 16 columns):\n",
      " #   Column         Non-Null Count  Dtype  \n",
      "---  ------         --------------  -----  \n",
      " 0   s_measuretime  13217 non-null  object \n",
      " 1   s_nodeid       13217 non-null  int64  \n",
      " 2   s_volt         13217 non-null  int64  \n",
      " 3   s_type         13217 non-null  int64  \n",
      " 4   s_rmsx         13217 non-null  float64\n",
      " 5   s_rmsy         13217 non-null  float64\n",
      " 6   s_rmsz         13217 non-null  float64\n",
      " 7   s_temp         13217 non-null  int64  \n",
      " 8   s_dir          13217 non-null  int64  \n",
      " 9   v_type         13217 non-null  int64  \n",
      " 10  v_lvol         13217 non-null  int64  \n",
      " 11  v_rvol         13217 non-null  int64  \n",
      " 12  v_ldir         13217 non-null  int64  \n",
      " 13  v_rdir         13217 non-null  int64  \n",
      " 14  vec            13217 non-null  float64\n",
      " 15  seta           13217 non-null  float64\n",
      "dtypes: float64(5), int64(10), object(1)\n",
      "memory usage: 1.6+ MB\n"
     ]
    }
   ],
   "source": [
    "# 결측치, 형태 알 수 있음.\n",
    "df.info()"
   ]
  },
  {
   "cell_type": "markdown",
   "id": "8110fdf5",
   "metadata": {},
   "source": [
    "### 3. 시각화"
   ]
  },
  {
   "cell_type": "code",
   "execution_count": 5,
   "id": "6f31b580",
   "metadata": {
    "scrolled": false
   },
   "outputs": [
    {
     "data": {
      "image/png": "[encoded data removed]",
      "text/plain": [
       "<Figure size 600x600 with 1 Axes>"
      ]
     },
     "metadata": {},
     "output_type": "display_data"
    }
   ],
   "source": [
    "plt.figure(figsize=(6,6))\n",
    "\n",
    "plt.plot(df['s_rmsx'], label='s_rmsx')\n",
    "plt.plot(df['s_rmsy'], label='s_rmsy')\n",
    "plt.plot(df['s_rmsz'], label='s_rmsz')\n",
    "plt.ylim([0,1.8])\n",
    "plt.legend(ncol=3, loc='upper center')\n",
    "plt.grid()\n",
    "\n",
    "plt.show()"
   ]
  },
  {
   "cell_type": "code",
   "execution_count": 6,
   "id": "eb8dfa00",
   "metadata": {},
   "outputs": [
    {
     "data": {
      "image/png": "[encoded data removed]",
      "text/plain": [
       "<Figure size 600x600 with 1 Axes>"
      ]
     },
     "metadata": {},
     "output_type": "display_data"
    }
   ],
   "source": [
    "plt.figure(figsize=(6,6))\n",
    "\n",
    "plt.plot(df_err['s_rmsx'], label='s_rmsx')\n",
    "plt.plot(df_err['s_rmsy'], label='s_rmsy')\n",
    "plt.plot(df_err['s_rmsz'], label='s_rmsz')\n",
    "plt.ylim([0,1.8])\n",
    "plt.legend(ncol=3, loc='upper center')\n",
    "plt.grid()\n",
    "\n",
    "plt.show()"
   ]
  },
  {
   "cell_type": "code",
   "execution_count": 7,
   "id": "06bccb1c",
   "metadata": {},
   "outputs": [
    {
     "data": {
      "image/png": "[encoded data removed]",
      "text/plain": [
       "<Figure size 600x600 with 1 Axes>"
      ]
     },
     "metadata": {},
     "output_type": "display_data"
    }
   ],
   "source": [
    "# rmsx 정상 그래프\n",
    "plt.figure(figsize=(6,6))\n",
    "\n",
    "plt.plot(df['s_rmsx'])\n",
    "\n",
    "plt.show()"
   ]
  },
  {
   "cell_type": "code",
   "execution_count": 8,
   "id": "41324227",
   "metadata": {},
   "outputs": [
    {
     "data": {
      "image/png": "[encoded data removed]",
      "text/plain": [
       "<Figure size 600x600 with 1 Axes>"
      ]
     },
     "metadata": {},
     "output_type": "display_data"
    }
   ],
   "source": [
    "# rmsx 오류 그래프\n",
    "plt.figure(figsize=(6,6))\n",
    "\n",
    "plt.plot(df_err['s_rmsx'])\n",
    "\n",
    "plt.show()"
   ]
  },
  {
   "cell_type": "markdown",
   "id": "f98c26f3",
   "metadata": {},
   "source": [
    "### 4. 데이터 전처리"
   ]
  },
  {
   "cell_type": "code",
   "execution_count": 9,
   "id": "28bc0d69",
   "metadata": {},
   "outputs": [],
   "source": [
    "df['s_measuretime'] = pd.to_datetime(df.s_measuretime, format='%Y-%m-%d %H:%M')  # 날짜 데이터는 데이터를 보고 형태 그대로 변환\n",
    "df.index = df['s_measuretime']  # 유일성 확보, 접근성 \n",
    "data = df.sort_index(ascending=True, axis=0)  # 행단위 오름차순 정렬하여 저장"
   ]
  },
  {
   "cell_type": "code",
   "execution_count": 10,
   "id": "06254081",
   "metadata": {},
   "outputs": [],
   "source": [
    "# 날짜와 rmsx 데이터를 이용한 데이터프레임 생성\n",
    "new_data = pd.DataFrame(index=range(0,len(df)), columns=['s_measuretime', 's_rmsx'])  # 빈 데이터프레임\n",
    "\n",
    "# 데이터프레임 내용 채우기\n",
    "for i in range(len(data)):  \n",
    "    new_data['s_measuretime'][i] = data.index[i]\n",
    "    new_data['s_rmsx'][i] = data['s_rmsx'][i]\n",
    "\n",
    "# index 설정\n",
    "new_data.index = new_data.s_measuretime  \n",
    "\n",
    "# s_measure 열 삭제, 업데이트.\n",
    "new_data.drop('s_measuretime',axis=1, inplace=True)  \n",
    "\n",
    "# 값을 numpy 배열로 변환\n",
    "final_data = new_data.values"
   ]
  },
  {
   "cell_type": "code",
   "execution_count": 11,
   "id": "36aae636",
   "metadata": {},
   "outputs": [
    {
     "data": {
      "text/html": [
       "<div>\n",
       "<style scoped>\n",
       "    .dataframe tbody tr th:only-of-type {\n",
       "        vertical-align: middle;\n",
       "    }\n",
       "\n",
       "    .dataframe tbody tr th {\n",
       "        vertical-align: top;\n",
       "    }\n",
       "\n",
       "    .dataframe thead th {\n",
       "        text-align: right;\n",
       "    }\n",
       "</style>\n",
       "<table border=\"1\" class=\"dataframe\">\n",
       "  <thead>\n",
       "    <tr style=\"text-align: right;\">\n",
       "      <th></th>\n",
       "      <th>s_rmsx</th>\n",
       "    </tr>\n",
       "    <tr>\n",
       "      <th>s_measuretime</th>\n",
       "      <th></th>\n",
       "    </tr>\n",
       "  </thead>\n",
       "  <tbody>\n",
       "    <tr>\n",
       "      <th>2022-11-09 09:51:00</th>\n",
       "      <td>0.47323</td>\n",
       "    </tr>\n",
       "    <tr>\n",
       "      <th>2022-11-09 09:52:00</th>\n",
       "      <td>0.47376</td>\n",
       "    </tr>\n",
       "    <tr>\n",
       "      <th>2022-11-09 09:53:00</th>\n",
       "      <td>0.46836</td>\n",
       "    </tr>\n",
       "    <tr>\n",
       "      <th>2022-11-09 09:54:00</th>\n",
       "      <td>0.47408</td>\n",
       "    </tr>\n",
       "    <tr>\n",
       "      <th>2022-11-09 09:55:00</th>\n",
       "      <td>0.48104</td>\n",
       "    </tr>\n",
       "    <tr>\n",
       "      <th>...</th>\n",
       "      <td>...</td>\n",
       "    </tr>\n",
       "    <tr>\n",
       "      <th>2022-11-18 14:04:00</th>\n",
       "      <td>0.75974</td>\n",
       "    </tr>\n",
       "    <tr>\n",
       "      <th>2022-11-18 14:05:00</th>\n",
       "      <td>0.76098</td>\n",
       "    </tr>\n",
       "    <tr>\n",
       "      <th>2022-11-18 14:06:00</th>\n",
       "      <td>0.76473</td>\n",
       "    </tr>\n",
       "    <tr>\n",
       "      <th>2022-11-18 14:07:00</th>\n",
       "      <td>0.76853</td>\n",
       "    </tr>\n",
       "    <tr>\n",
       "      <th>2022-11-18 14:08:00</th>\n",
       "      <td>0.77119</td>\n",
       "    </tr>\n",
       "  </tbody>\n",
       "</table>\n",
       "<p>13217 rows × 1 columns</p>\n",
       "</div>"
      ],
      "text/plain": [
       "                      s_rmsx\n",
       "s_measuretime               \n",
       "2022-11-09 09:51:00  0.47323\n",
       "2022-11-09 09:52:00  0.47376\n",
       "2022-11-09 09:53:00  0.46836\n",
       "2022-11-09 09:54:00  0.47408\n",
       "2022-11-09 09:55:00  0.48104\n",
       "...                      ...\n",
       "2022-11-18 14:04:00  0.75974\n",
       "2022-11-18 14:05:00  0.76098\n",
       "2022-11-18 14:06:00  0.76473\n",
       "2022-11-18 14:07:00  0.76853\n",
       "2022-11-18 14:08:00  0.77119\n",
       "\n",
       "[13217 rows x 1 columns]"
      ]
     },
     "execution_count": 11,
     "metadata": {},
     "output_type": "execute_result"
    }
   ],
   "source": [
    "new_data"
   ]
  },
  {
   "cell_type": "code",
   "execution_count": 12,
   "id": "bd08bb37",
   "metadata": {},
   "outputs": [
    {
     "data": {
      "text/plain": [
       "array([[0.47323],\n",
       "       [0.47376],\n",
       "       [0.46836],\n",
       "       ...,\n",
       "       [0.76473],\n",
       "       [0.76853],\n",
       "       [0.77119]], dtype=object)"
      ]
     },
     "execution_count": 12,
     "metadata": {},
     "output_type": "execute_result"
    }
   ],
   "source": [
    "final_data"
   ]
  },
  {
   "cell_type": "code",
   "execution_count": 13,
   "id": "a307f8da",
   "metadata": {},
   "outputs": [],
   "source": [
    "# 80%를 학습데이터, 20% 테스트데이터로 설정\n",
    "train_idx = int(final_data.shape[0] * 0.8)\n",
    "train_data = final_data[0:train_idx]\n",
    "test_data = final_data[train_idx:]"
   ]
  },
  {
   "cell_type": "code",
   "execution_count": 14,
   "id": "422ce0df",
   "metadata": {},
   "outputs": [
    {
     "data": {
      "text/plain": [
       "(10573, 1)"
      ]
     },
     "execution_count": 14,
     "metadata": {},
     "output_type": "execute_result"
    }
   ],
   "source": [
    "train_data.shape"
   ]
  },
  {
   "cell_type": "code",
   "execution_count": 15,
   "id": "eb30bf42",
   "metadata": {},
   "outputs": [
    {
     "data": {
      "text/plain": [
       "(2644, 1)"
      ]
     },
     "execution_count": 15,
     "metadata": {},
     "output_type": "execute_result"
    }
   ],
   "source": [
    "test_data.shape"
   ]
  },
  {
   "cell_type": "code",
   "execution_count": 16,
   "id": "64029885",
   "metadata": {},
   "outputs": [],
   "source": [
    "# 정규화를 위한 객체 생성\n",
    "scaler = MinMaxScaler(feature_range=(0,1))\n",
    "\n",
    "# 정규화 적용\n",
    "scaled_data = scaler.fit_transform(final_data)"
   ]
  },
  {
   "cell_type": "code",
   "execution_count": 17,
   "id": "dad860da",
   "metadata": {},
   "outputs": [
    {
     "data": {
      "text/plain": [
       "array([[0.13823064],\n",
       "       [0.13878612],\n",
       "       [0.13312651],\n",
       "       ...,\n",
       "       [0.44374456],\n",
       "       [0.44772725],\n",
       "       [0.45051513]])"
      ]
     },
     "execution_count": 17,
     "metadata": {},
     "output_type": "execute_result"
    }
   ],
   "source": [
    "scaled_data"
   ]
  },
  {
   "cell_type": "code",
   "execution_count": 18,
   "id": "202b7db1",
   "metadata": {},
   "outputs": [],
   "source": [
    "# 신경망에 입력하기 위한 데이터셋 생성\n",
    "# 함수로 구현\n",
    "# 학습데이터\n",
    "def getDataSetX(item, start, to, size):  # 원시데이터, 데이터 시작, 데이터 끝, 입력데이터 개수\n",
    "    \n",
    "    arr = []  # 공백 리스트 생성\n",
    "    \n",
    "    for i in range(start, to - (size - 1)):\n",
    "        arr.append(item[i:i + size, 0])\n",
    "        \n",
    "    nparr = np.array(arr)  # numpy배열로 변환\n",
    "    nparr = np.reshape(nparr, (nparr.shape[0], nparr.shape[1], 1))  # 3차원으로 확장\n",
    "    \n",
    "    return nparr\n",
    "\n",
    "# 정답데이터\n",
    "def getDataSetY(item, start, to, size):\n",
    "    arr = []\n",
    "    for i in range(start + size, to + 1):\n",
    "        arr.append(item[i, 0])\n",
    "    nparr = np.array(arr)\n",
    "    \n",
    "    return nparr"
   ]
  },
  {
   "cell_type": "code",
   "execution_count": 19,
   "id": "27984833",
   "metadata": {
    "scrolled": true
   },
   "outputs": [
    {
     "name": "stdout",
     "output_type": "stream",
     "text": [
      "[[[0.13823064]\n",
      "  [0.13878612]\n",
      "  [0.13312651]\n",
      "  [0.1391215 ]\n",
      "  [0.14641611]\n",
      "  [0.14397409]\n",
      "  [0.14632178]\n",
      "  [0.14610168]\n",
      "  [0.15145735]\n",
      "  [0.14944504]]]\n"
     ]
    }
   ],
   "source": [
    "tx = getDataSetX(scaled_data, 0, 10, 10)\n",
    "print(tx)"
   ]
  },
  {
   "cell_type": "code",
   "execution_count": 20,
   "id": "29955b27",
   "metadata": {},
   "outputs": [
    {
     "name": "stdout",
     "output_type": "stream",
     "text": [
      "[0.14620649]\n"
     ]
    }
   ],
   "source": [
    "ty = getDataSetY(scaled_data, 0, 10, 10)\n",
    "print(ty)"
   ]
  },
  {
   "cell_type": "code",
   "execution_count": 21,
   "id": "173c030b",
   "metadata": {},
   "outputs": [
    {
     "name": "stdout",
     "output_type": "stream",
     "text": [
      "(10563, 10, 1)\n",
      "(10563,)\n",
      "(2634, 10, 1)\n",
      "(2634,)\n"
     ]
    }
   ],
   "source": [
    "x_train = getDataSetX(scaled_data, 0, train_idx - 1, 10)\n",
    "y_train = getDataSetY(scaled_data, 0, train_idx - 1, 10)\n",
    "print(x_train.shape)\n",
    "print(y_train.shape)\n",
    "\n",
    "x_test = getDataSetX(scaled_data, train_idx, final_data.shape[0] - 1, 10)\n",
    "y_test = getDataSetY(scaled_data, train_idx, final_data.shape[0] - 1, 10)\n",
    "print(x_test.shape)\n",
    "print(y_test.shape)"
   ]
  },
  {
   "cell_type": "markdown",
   "id": "9a04a71e",
   "metadata": {},
   "source": [
    "### 5. 모델 구성"
   ]
  },
  {
   "cell_type": "code",
   "execution_count": 22,
   "id": "21b8f04f",
   "metadata": {},
   "outputs": [
    {
     "name": "stdout",
     "output_type": "stream",
     "text": [
      "Model: \"sequential\"\n",
      "_________________________________________________________________\n",
      "Layer (type)                 Output Shape              Param #   \n",
      "=================================================================\n",
      "lstm (LSTM)                  (None, 10, 10)            480       \n",
      "_________________________________________________________________\n",
      "lstm_1 (LSTM)                (None, 10)                840       \n",
      "_________________________________________________________________\n",
      "dense (Dense)                (None, 1)                 11        \n",
      "=================================================================\n",
      "Total params: 1,331\n",
      "Trainable params: 1,331\n",
      "Non-trainable params: 0\n",
      "_________________________________________________________________\n"
     ]
    }
   ],
   "source": [
    "lstm_model = Sequential([\n",
    "    LSTM(units=10, return_sequences=True, input_shape=(x_train.shape[1],1)),\n",
    "    LSTM(units=10),\n",
    "    Dense(1)\n",
    "])\n",
    "lstm_model.compile(loss='mse', optimizer='adam')\n",
    "lstm_model.summary()"
   ]
  },
  {
   "cell_type": "code",
   "execution_count": 23,
   "id": "ca20eeea",
   "metadata": {
    "scrolled": true
   },
   "outputs": [
    {
     "name": "stdout",
     "output_type": "stream",
     "text": [
      "Epoch 1/20\n",
      "265/265 [==============================] - 4s 7ms/step - loss: 0.0108 - val_loss: 4.0345e-04\n",
      "Epoch 2/20\n",
      "265/265 [==============================] - 1s 5ms/step - loss: 9.6807e-04 - val_loss: 4.2126e-04\n",
      "Epoch 3/20\n",
      "265/265 [==============================] - 1s 5ms/step - loss: 9.6603e-04 - val_loss: 4.0919e-04\n",
      "Epoch 4/20\n",
      "265/265 [==============================] - 1s 5ms/step - loss: 9.0556e-04 - val_loss: 4.1552e-04\n",
      "Epoch 5/20\n",
      "265/265 [==============================] - 1s 5ms/step - loss: 8.6234e-04 - val_loss: 4.0421e-04\n",
      "Epoch 6/20\n",
      "265/265 [==============================] - 1s 5ms/step - loss: 8.2833e-04 - val_loss: 3.3443e-04\n",
      "Epoch 7/20\n",
      "265/265 [==============================] - 1s 5ms/step - loss: 7.8569e-04 - val_loss: 3.1417e-04\n",
      "Epoch 8/20\n",
      "265/265 [==============================] - 1s 5ms/step - loss: 7.4420e-04 - val_loss: 3.0805e-04\n",
      "Epoch 9/20\n",
      "265/265 [==============================] - 1s 5ms/step - loss: 7.0092e-04 - val_loss: 2.8951e-04\n",
      "Epoch 10/20\n",
      "265/265 [==============================] - 1s 5ms/step - loss: 6.7466e-04 - val_loss: 2.9760e-04\n",
      "Epoch 11/20\n",
      "265/265 [==============================] - 1s 5ms/step - loss: 6.1711e-04 - val_loss: 2.5115e-04\n",
      "Epoch 12/20\n",
      "265/265 [==============================] - 1s 5ms/step - loss: 5.6892e-04 - val_loss: 2.3522e-04\n",
      "Epoch 13/20\n",
      "265/265 [==============================] - 1s 5ms/step - loss: 5.1377e-04 - val_loss: 2.2950e-04\n",
      "Epoch 14/20\n",
      "265/265 [==============================] - 1s 5ms/step - loss: 4.7020e-04 - val_loss: 1.9559e-04\n",
      "Epoch 15/20\n",
      "265/265 [==============================] - 1s 5ms/step - loss: 4.2277e-04 - val_loss: 1.9074e-04\n",
      "Epoch 16/20\n",
      "265/265 [==============================] - 1s 5ms/step - loss: 3.8965e-04 - val_loss: 1.7720e-04\n",
      "Epoch 17/20\n",
      "265/265 [==============================] - 1s 5ms/step - loss: 3.6673e-04 - val_loss: 1.5710e-04\n",
      "Epoch 18/20\n",
      "265/265 [==============================] - 1s 5ms/step - loss: 3.4649e-04 - val_loss: 1.7410e-04\n",
      "Epoch 19/20\n",
      "265/265 [==============================] - 1s 5ms/step - loss: 3.6671e-04 - val_loss: 1.6820e-04\n",
      "Epoch 20/20\n",
      "265/265 [==============================] - 1s 5ms/step - loss: 3.2555e-04 - val_loss: 1.4099e-04\n"
     ]
    }
   ],
   "source": [
    "history_lstm = lstm_model.fit(x_train, y_train, epochs=20, batch_size=32,\n",
    "                              validation_split=0.2)"
   ]
  },
  {
   "cell_type": "code",
   "execution_count": 24,
   "id": "47b68238",
   "metadata": {},
   "outputs": [
    {
     "data": {
      "image/png": "[encoded data removed]",
      "text/plain": [
       "<Figure size 640x480 with 1 Axes>"
      ]
     },
     "metadata": {},
     "output_type": "display_data"
    }
   ],
   "source": [
    "# 과적합 확인할 수 있음.\n",
    "plt.plot(history_lstm.history['loss'], 'b--', label='loss')\n",
    "plt.plot(history_lstm.history['val_loss'], 'r--', label='val_loss')\n",
    "plt.show()"
   ]
  },
  {
   "cell_type": "markdown",
   "id": "55cf9b3f",
   "metadata": {},
   "source": [
    "### 6. 예측"
   ]
  },
  {
   "cell_type": "code",
   "execution_count": 25,
   "id": "02d6c896",
   "metadata": {},
   "outputs": [],
   "source": [
    "pred_s_rmsx = lstm_model.predict(x_test)  # 테스트 데이터셋으로 예측(정규화값)\n",
    "pred_s_rmsx = scaler.inverse_transform(pred_s_rmsx)  # 정규화데이터로 역변환"
   ]
  },
  {
   "cell_type": "code",
   "execution_count": 26,
   "id": "ff164b8c",
   "metadata": {},
   "outputs": [
    {
     "name": "stdout",
     "output_type": "stream",
     "text": [
      "0.7094936958367686\n"
     ]
    }
   ],
   "source": [
    "# 차원 일치 후 비교.\n",
    "test_data[10:,0]  # 정답\n",
    "pred_s_rmsx[:,0]  # 예측\n",
    "\n",
    "# MAPE (Mean Absolute Percentage Error)\n",
    "print((np.mean(np.abs(test_data[10:,0] - pred_s_rmsx[:,0]) / test_data[10:,0]) * 100))"
   ]
  },
  {
   "cell_type": "code",
   "execution_count": 27,
   "id": "f5b9e706",
   "metadata": {},
   "outputs": [
    {
     "data": {
      "image/png": "[encoded data removed]",
      "text/plain": [
       "<Figure size 640x480 with 1 Axes>"
      ]
     },
     "metadata": {},
     "output_type": "display_data"
    }
   ],
   "source": [
    "plt.plot(test_data[10:,0],label='test')  # 정답\n",
    "plt.plot(pred_s_rmsx[:,0], label='pred') # 예측\n",
    "plt.legend()\n",
    "plt.show()"
   ]
  },
  {
   "cell_type": "markdown",
   "id": "c5465348",
   "metadata": {},
   "source": [
    "# error 데이터"
   ]
  },
  {
   "cell_type": "code",
   "execution_count": 28,
   "id": "967aef01",
   "metadata": {},
   "outputs": [],
   "source": [
    "df_err = pd.read_csv(\"C:/AI/vib_data_err.csv\")"
   ]
  },
  {
   "cell_type": "code",
   "execution_count": 29,
   "id": "ddd84360",
   "metadata": {},
   "outputs": [
    {
     "data": {
      "text/html": [
       "<div>\n",
       "<style scoped>\n",
       "    .dataframe tbody tr th:only-of-type {\n",
       "        vertical-align: middle;\n",
       "    }\n",
       "\n",
       "    .dataframe tbody tr th {\n",
       "        vertical-align: top;\n",
       "    }\n",
       "\n",
       "    .dataframe thead th {\n",
       "        text-align: right;\n",
       "    }\n",
       "</style>\n",
       "<table border=\"1\" class=\"dataframe\">\n",
       "  <thead>\n",
       "    <tr style=\"text-align: right;\">\n",
       "      <th></th>\n",
       "      <th>s_measuretime</th>\n",
       "      <th>s_nodeid</th>\n",
       "      <th>s_volt</th>\n",
       "      <th>s_type</th>\n",
       "      <th>s_rmsx</th>\n",
       "      <th>s_rmsy</th>\n",
       "      <th>s_rmsz</th>\n",
       "      <th>s_temp</th>\n",
       "      <th>s_dir</th>\n",
       "      <th>v_type</th>\n",
       "      <th>v_lvol</th>\n",
       "      <th>v_rvol</th>\n",
       "      <th>v_ldir</th>\n",
       "      <th>v_rdir</th>\n",
       "      <th>vec</th>\n",
       "      <th>seta</th>\n",
       "    </tr>\n",
       "  </thead>\n",
       "  <tbody>\n",
       "    <tr>\n",
       "      <th>0</th>\n",
       "      <td>2022-11-23 10:05</td>\n",
       "      <td>0</td>\n",
       "      <td>3</td>\n",
       "      <td>8</td>\n",
       "      <td>0.47470</td>\n",
       "      <td>0.24819</td>\n",
       "      <td>0.48077</td>\n",
       "      <td>23</td>\n",
       "      <td>0</td>\n",
       "      <td>5</td>\n",
       "      <td>1</td>\n",
       "      <td>1</td>\n",
       "      <td>0</td>\n",
       "      <td>90</td>\n",
       "      <td>0.719776</td>\n",
       "      <td>103.342</td>\n",
       "    </tr>\n",
       "    <tr>\n",
       "      <th>1</th>\n",
       "      <td>2022-11-23 10:06</td>\n",
       "      <td>0</td>\n",
       "      <td>3</td>\n",
       "      <td>8</td>\n",
       "      <td>0.48144</td>\n",
       "      <td>0.25221</td>\n",
       "      <td>0.47297</td>\n",
       "      <td>23</td>\n",
       "      <td>0</td>\n",
       "      <td>2</td>\n",
       "      <td>1</td>\n",
       "      <td>1</td>\n",
       "      <td>0</td>\n",
       "      <td>90</td>\n",
       "      <td>0.720482</td>\n",
       "      <td>103.451</td>\n",
       "    </tr>\n",
       "    <tr>\n",
       "      <th>2</th>\n",
       "      <td>2022-11-23 10:07</td>\n",
       "      <td>0</td>\n",
       "      <td>3</td>\n",
       "      <td>8</td>\n",
       "      <td>0.47380</td>\n",
       "      <td>0.25211</td>\n",
       "      <td>0.48737</td>\n",
       "      <td>23</td>\n",
       "      <td>0</td>\n",
       "      <td>5</td>\n",
       "      <td>1</td>\n",
       "      <td>1</td>\n",
       "      <td>0</td>\n",
       "      <td>90</td>\n",
       "      <td>0.724966</td>\n",
       "      <td>103.402</td>\n",
       "    </tr>\n",
       "    <tr>\n",
       "      <th>3</th>\n",
       "      <td>2022-11-23 10:08</td>\n",
       "      <td>0</td>\n",
       "      <td>3</td>\n",
       "      <td>8</td>\n",
       "      <td>0.49006</td>\n",
       "      <td>0.25174</td>\n",
       "      <td>0.49410</td>\n",
       "      <td>23</td>\n",
       "      <td>0</td>\n",
       "      <td>5</td>\n",
       "      <td>1</td>\n",
       "      <td>1</td>\n",
       "      <td>0</td>\n",
       "      <td>90</td>\n",
       "      <td>0.740045</td>\n",
       "      <td>103.242</td>\n",
       "    </tr>\n",
       "    <tr>\n",
       "      <th>4</th>\n",
       "      <td>2022-11-23 10:09</td>\n",
       "      <td>0</td>\n",
       "      <td>3</td>\n",
       "      <td>8</td>\n",
       "      <td>0.49657</td>\n",
       "      <td>0.24527</td>\n",
       "      <td>0.49117</td>\n",
       "      <td>23</td>\n",
       "      <td>0</td>\n",
       "      <td>2</td>\n",
       "      <td>1</td>\n",
       "      <td>1</td>\n",
       "      <td>0</td>\n",
       "      <td>90</td>\n",
       "      <td>0.740262</td>\n",
       "      <td>103.047</td>\n",
       "    </tr>\n",
       "    <tr>\n",
       "      <th>...</th>\n",
       "      <td>...</td>\n",
       "      <td>...</td>\n",
       "      <td>...</td>\n",
       "      <td>...</td>\n",
       "      <td>...</td>\n",
       "      <td>...</td>\n",
       "      <td>...</td>\n",
       "      <td>...</td>\n",
       "      <td>...</td>\n",
       "      <td>...</td>\n",
       "      <td>...</td>\n",
       "      <td>...</td>\n",
       "      <td>...</td>\n",
       "      <td>...</td>\n",
       "      <td>...</td>\n",
       "      <td>...</td>\n",
       "    </tr>\n",
       "    <tr>\n",
       "      <th>1006</th>\n",
       "      <td>2022-11-24 2:50</td>\n",
       "      <td>0</td>\n",
       "      <td>3</td>\n",
       "      <td>8</td>\n",
       "      <td>1.56989</td>\n",
       "      <td>0.83313</td>\n",
       "      <td>1.49746</td>\n",
       "      <td>26</td>\n",
       "      <td>0</td>\n",
       "      <td>2</td>\n",
       "      <td>6</td>\n",
       "      <td>6</td>\n",
       "      <td>0</td>\n",
       "      <td>90</td>\n",
       "      <td>2.324010</td>\n",
       "      <td>103.617</td>\n",
       "    </tr>\n",
       "    <tr>\n",
       "      <th>1007</th>\n",
       "      <td>2022-11-24 2:51</td>\n",
       "      <td>0</td>\n",
       "      <td>3</td>\n",
       "      <td>8</td>\n",
       "      <td>1.58473</td>\n",
       "      <td>0.83097</td>\n",
       "      <td>1.50204</td>\n",
       "      <td>26</td>\n",
       "      <td>0</td>\n",
       "      <td>2</td>\n",
       "      <td>6</td>\n",
       "      <td>6</td>\n",
       "      <td>0</td>\n",
       "      <td>90</td>\n",
       "      <td>2.336240</td>\n",
       "      <td>103.559</td>\n",
       "    </tr>\n",
       "    <tr>\n",
       "      <th>1008</th>\n",
       "      <td>2022-11-24 2:52</td>\n",
       "      <td>0</td>\n",
       "      <td>3</td>\n",
       "      <td>8</td>\n",
       "      <td>1.58261</td>\n",
       "      <td>0.82226</td>\n",
       "      <td>1.49865</td>\n",
       "      <td>26</td>\n",
       "      <td>0</td>\n",
       "      <td>2</td>\n",
       "      <td>6</td>\n",
       "      <td>6</td>\n",
       "      <td>0</td>\n",
       "      <td>90</td>\n",
       "      <td>2.329530</td>\n",
       "      <td>103.504</td>\n",
       "    </tr>\n",
       "    <tr>\n",
       "      <th>1009</th>\n",
       "      <td>2022-11-24 2:53</td>\n",
       "      <td>0</td>\n",
       "      <td>3</td>\n",
       "      <td>8</td>\n",
       "      <td>1.59269</td>\n",
       "      <td>0.83338</td>\n",
       "      <td>1.52013</td>\n",
       "      <td>26</td>\n",
       "      <td>0</td>\n",
       "      <td>2</td>\n",
       "      <td>6</td>\n",
       "      <td>6</td>\n",
       "      <td>0</td>\n",
       "      <td>90</td>\n",
       "      <td>2.354140</td>\n",
       "      <td>103.527</td>\n",
       "    </tr>\n",
       "    <tr>\n",
       "      <th>1010</th>\n",
       "      <td>2022-11-24 2:54</td>\n",
       "      <td>0</td>\n",
       "      <td>3</td>\n",
       "      <td>8</td>\n",
       "      <td>1.61124</td>\n",
       "      <td>0.83554</td>\n",
       "      <td>1.52933</td>\n",
       "      <td>26</td>\n",
       "      <td>0</td>\n",
       "      <td>2</td>\n",
       "      <td>6</td>\n",
       "      <td>6</td>\n",
       "      <td>0</td>\n",
       "      <td>90</td>\n",
       "      <td>2.373410</td>\n",
       "      <td>103.486</td>\n",
       "    </tr>\n",
       "  </tbody>\n",
       "</table>\n",
       "<p>1011 rows × 16 columns</p>\n",
       "</div>"
      ],
      "text/plain": [
       "         s_measuretime  s_nodeid  s_volt  s_type   s_rmsx   s_rmsy   s_rmsz  \\\n",
       "0     2022-11-23 10:05         0       3       8  0.47470  0.24819  0.48077   \n",
       "1     2022-11-23 10:06         0       3       8  0.48144  0.25221  0.47297   \n",
       "2     2022-11-23 10:07         0       3       8  0.47380  0.25211  0.48737   \n",
       "3     2022-11-23 10:08         0       3       8  0.49006  0.25174  0.49410   \n",
       "4     2022-11-23 10:09         0       3       8  0.49657  0.24527  0.49117   \n",
       "...                ...       ...     ...     ...      ...      ...      ...   \n",
       "1006   2022-11-24 2:50         0       3       8  1.56989  0.83313  1.49746   \n",
       "1007   2022-11-24 2:51         0       3       8  1.58473  0.83097  1.50204   \n",
       "1008   2022-11-24 2:52         0       3       8  1.58261  0.82226  1.49865   \n",
       "1009   2022-11-24 2:53         0       3       8  1.59269  0.83338  1.52013   \n",
       "1010   2022-11-24 2:54         0       3       8  1.61124  0.83554  1.52933   \n",
       "\n",
       "      s_temp  s_dir  v_type  v_lvol  v_rvol  v_ldir  v_rdir       vec    seta   \n",
       "0         23      0       5       1       1       0      90  0.719776  103.342  \n",
       "1         23      0       2       1       1       0      90  0.720482  103.451  \n",
       "2         23      0       5       1       1       0      90  0.724966  103.402  \n",
       "3         23      0       5       1       1       0      90  0.740045  103.242  \n",
       "4         23      0       2       1       1       0      90  0.740262  103.047  \n",
       "...      ...    ...     ...     ...     ...     ...     ...       ...      ...  \n",
       "1006      26      0       2       6       6       0      90  2.324010  103.617  \n",
       "1007      26      0       2       6       6       0      90  2.336240  103.559  \n",
       "1008      26      0       2       6       6       0      90  2.329530  103.504  \n",
       "1009      26      0       2       6       6       0      90  2.354140  103.527  \n",
       "1010      26      0       2       6       6       0      90  2.373410  103.486  \n",
       "\n",
       "[1011 rows x 16 columns]"
      ]
     },
     "execution_count": 29,
     "metadata": {},
     "output_type": "execute_result"
    }
   ],
   "source": [
    "df_err"
   ]
  },
  {
   "cell_type": "code",
   "execution_count": 30,
   "id": "7c8c927b",
   "metadata": {},
   "outputs": [],
   "source": [
    "# 날짜데이터를 날짜형식으로 변환\n",
    "df_err['s_measuretime'] = pd.to_datetime(df_err.s_measuretime, format = '%Y-%m-%d %H:%M')\n",
    "\n",
    "# 유일성, 접근성 => 인덱스\n",
    "df_err.index = df_err['s_measuretime']\n",
    "\n",
    "# 오름차순 정렬\n",
    "data_err = df_err.sort_index(ascending=True, axis=0)"
   ]
  },
  {
   "cell_type": "code",
   "execution_count": 31,
   "id": "7271c651",
   "metadata": {},
   "outputs": [],
   "source": [
    "# 빈 데이터프레임 생성\n",
    "new_data_err = pd.DataFrame(index=range(0,len(df_err)), columns=['s_measuretime', 's_rmsx'])\n",
    "\n",
    "# 데이터프레임 내용 채우기\n",
    "for i in range(len(data_err)):\n",
    "    new_data_err['s_measuretime'][i] = data_err.index[i]\n",
    "    new_data_err['s_rmsx'][i] = data_err['s_rmsx'][i]\n",
    "    \n",
    "# index 설정\n",
    "new_data_err.index = new_data_err['s_measuretime']\n",
    "\n",
    "# 열 삭제, 업데이트\n",
    "new_data_err.drop('s_measuretime', axis=1, inplace=True)\n",
    "\n",
    "# 값을 numpy 배열로 변환\n",
    "final_data_err = new_data_err.values"
   ]
  },
  {
   "cell_type": "code",
   "execution_count": 32,
   "id": "5216edba",
   "metadata": {},
   "outputs": [
    {
     "data": {
      "text/html": [
       "<div>\n",
       "<style scoped>\n",
       "    .dataframe tbody tr th:only-of-type {\n",
       "        vertical-align: middle;\n",
       "    }\n",
       "\n",
       "    .dataframe tbody tr th {\n",
       "        vertical-align: top;\n",
       "    }\n",
       "\n",
       "    .dataframe thead th {\n",
       "        text-align: right;\n",
       "    }\n",
       "</style>\n",
       "<table border=\"1\" class=\"dataframe\">\n",
       "  <thead>\n",
       "    <tr style=\"text-align: right;\">\n",
       "      <th></th>\n",
       "      <th>s_rmsx</th>\n",
       "    </tr>\n",
       "    <tr>\n",
       "      <th>s_measuretime</th>\n",
       "      <th></th>\n",
       "    </tr>\n",
       "  </thead>\n",
       "  <tbody>\n",
       "    <tr>\n",
       "      <th>2022-11-23 10:05:00</th>\n",
       "      <td>0.4747</td>\n",
       "    </tr>\n",
       "    <tr>\n",
       "      <th>2022-11-23 10:06:00</th>\n",
       "      <td>0.48144</td>\n",
       "    </tr>\n",
       "    <tr>\n",
       "      <th>2022-11-23 10:07:00</th>\n",
       "      <td>0.4738</td>\n",
       "    </tr>\n",
       "    <tr>\n",
       "      <th>2022-11-23 10:08:00</th>\n",
       "      <td>0.49006</td>\n",
       "    </tr>\n",
       "    <tr>\n",
       "      <th>2022-11-23 10:09:00</th>\n",
       "      <td>0.49657</td>\n",
       "    </tr>\n",
       "    <tr>\n",
       "      <th>...</th>\n",
       "      <td>...</td>\n",
       "    </tr>\n",
       "    <tr>\n",
       "      <th>2022-11-24 02:50:00</th>\n",
       "      <td>1.56989</td>\n",
       "    </tr>\n",
       "    <tr>\n",
       "      <th>2022-11-24 02:51:00</th>\n",
       "      <td>1.58473</td>\n",
       "    </tr>\n",
       "    <tr>\n",
       "      <th>2022-11-24 02:52:00</th>\n",
       "      <td>1.58261</td>\n",
       "    </tr>\n",
       "    <tr>\n",
       "      <th>2022-11-24 02:53:00</th>\n",
       "      <td>1.59269</td>\n",
       "    </tr>\n",
       "    <tr>\n",
       "      <th>2022-11-24 02:54:00</th>\n",
       "      <td>1.61124</td>\n",
       "    </tr>\n",
       "  </tbody>\n",
       "</table>\n",
       "<p>1011 rows × 1 columns</p>\n",
       "</div>"
      ],
      "text/plain": [
       "                      s_rmsx\n",
       "s_measuretime               \n",
       "2022-11-23 10:05:00   0.4747\n",
       "2022-11-23 10:06:00  0.48144\n",
       "2022-11-23 10:07:00   0.4738\n",
       "2022-11-23 10:08:00  0.49006\n",
       "2022-11-23 10:09:00  0.49657\n",
       "...                      ...\n",
       "2022-11-24 02:50:00  1.56989\n",
       "2022-11-24 02:51:00  1.58473\n",
       "2022-11-24 02:52:00  1.58261\n",
       "2022-11-24 02:53:00  1.59269\n",
       "2022-11-24 02:54:00  1.61124\n",
       "\n",
       "[1011 rows x 1 columns]"
      ]
     },
     "execution_count": 32,
     "metadata": {},
     "output_type": "execute_result"
    }
   ],
   "source": [
    "new_data_err"
   ]
  },
  {
   "cell_type": "code",
   "execution_count": 33,
   "id": "a8ac98dd",
   "metadata": {},
   "outputs": [
    {
     "data": {
      "text/plain": [
       "array([[0.4747],\n",
       "       [0.48144],\n",
       "       [0.4738],\n",
       "       ...,\n",
       "       [1.58261],\n",
       "       [1.59269],\n",
       "       [1.61124]], dtype=object)"
      ]
     },
     "execution_count": 33,
     "metadata": {},
     "output_type": "execute_result"
    }
   ],
   "source": [
    "final_data_err"
   ]
  },
  {
   "cell_type": "code",
   "execution_count": 34,
   "id": "6e3a7eb7",
   "metadata": {},
   "outputs": [],
   "source": [
    "# 정규화를 위한 객체 생성\n",
    "scaler_err = MinMaxScaler(feature_range=(0,1))\n",
    "\n",
    "# 정규화 적용\n",
    "scaled_data_err = scaler_err.fit_transform(final_data_err)"
   ]
  },
  {
   "cell_type": "code",
   "execution_count": 35,
   "id": "51e3dde9",
   "metadata": {},
   "outputs": [
    {
     "data": {
      "text/plain": [
       "array([[0.00340226],\n",
       "       [0.00931236],\n",
       "       [0.00261307],\n",
       "       ...,\n",
       "       [0.97489521],\n",
       "       [0.98373406],\n",
       "       [1.        ]])"
      ]
     },
     "execution_count": 35,
     "metadata": {},
     "output_type": "execute_result"
    }
   ],
   "source": [
    "scaled_data_err"
   ]
  },
  {
   "cell_type": "code",
   "execution_count": 36,
   "id": "68388e23",
   "metadata": {},
   "outputs": [],
   "source": [
    "# 신경망에 입력하기 위한 데이터셋 생성\n",
    "# 함수로 구현\n",
    "# 학습데이터\n",
    "def getDataSetX(item, start, to, size):  # 원시데이터, 데이터 시작, 데이터 끝, 입력데이터 개수\n",
    "    \n",
    "    arr = []  # 공백 리스트 생성\n",
    "    \n",
    "    for i in range(start, to - (size - 1)):\n",
    "        arr.append(item[i:i + size, 0])\n",
    "        \n",
    "    nparr = np.array(arr)  # numpy배열로 변환\n",
    "    nparr = np.reshape(nparr, (nparr.shape[0], nparr.shape[1], 1))  # 3차원으로 확장\n",
    "    \n",
    "    return nparr\n",
    "\n",
    "# 정답데이터\n",
    "def getDataSetY(item, start, to, size):\n",
    "    arr = []\n",
    "    for i in range(start + size, to + 1):\n",
    "        arr.append(item[i, 0])\n",
    "    nparr = np.array(arr)\n",
    "    \n",
    "    return nparr"
   ]
  },
  {
   "cell_type": "code",
   "execution_count": 37,
   "id": "5314a331",
   "metadata": {},
   "outputs": [],
   "source": [
    "x_test_err = getDataSetX(scaled_data_err, 0, final_data_err.shape[0] - 1, 10)\n",
    "y_test_err = getDataSetY(scaled_data_err, 0, final_data_err.shape[0] - 1, 10)"
   ]
  },
  {
   "cell_type": "code",
   "execution_count": 38,
   "id": "de89dee3",
   "metadata": {
    "scrolled": true
   },
   "outputs": [
    {
     "data": {
      "text/plain": [
       "(1001, 10, 1)"
      ]
     },
     "execution_count": 38,
     "metadata": {},
     "output_type": "execute_result"
    }
   ],
   "source": [
    "x_test_err.shape"
   ]
  },
  {
   "cell_type": "code",
   "execution_count": 39,
   "id": "f4b8fed9",
   "metadata": {},
   "outputs": [
    {
     "data": {
      "text/plain": [
       "(1001,)"
      ]
     },
     "execution_count": 39,
     "metadata": {},
     "output_type": "execute_result"
    }
   ],
   "source": [
    "y_test_err.shape"
   ]
  },
  {
   "cell_type": "code",
   "execution_count": 40,
   "id": "6fcb7e1a",
   "metadata": {
    "scrolled": true
   },
   "outputs": [
    {
     "name": "stdout",
     "output_type": "stream",
     "text": [
      "[[[0.00340226]\n",
      "  [0.00931236]\n",
      "  [0.00261307]\n",
      "  ...\n",
      "  [0.        ]\n",
      "  [0.0142316 ]\n",
      "  [0.01825643]]\n",
      "\n",
      " [[0.00931236]\n",
      "  [0.00261307]\n",
      "  [0.01687098]\n",
      "  ...\n",
      "  [0.0142316 ]\n",
      "  [0.01825643]\n",
      "  [0.0221585 ]]\n",
      "\n",
      " [[0.00261307]\n",
      "  [0.01687098]\n",
      "  [0.0225794 ]\n",
      "  ...\n",
      "  [0.01825643]\n",
      "  [0.0221585 ]\n",
      "  [0.01916838]]\n",
      "\n",
      " ...\n",
      "\n",
      " [[0.94014486]\n",
      "  [0.95778748]\n",
      "  [0.95955876]\n",
      "  ...\n",
      "  [0.96020764]\n",
      "  [0.96374143]\n",
      "  [0.97675418]]\n",
      "\n",
      " [[0.95778748]\n",
      "  [0.95955876]\n",
      "  [0.96216306]\n",
      "  ...\n",
      "  [0.96374143]\n",
      "  [0.97675418]\n",
      "  [0.97489521]]\n",
      "\n",
      " [[0.95955876]\n",
      "  [0.96216306]\n",
      "  [0.96100559]\n",
      "  ...\n",
      "  [0.97675418]\n",
      "  [0.97489521]\n",
      "  [0.98373406]]]\n",
      "[0.0221585  0.01916838 0.02004525 ... 0.97489521 0.98373406 1.        ]\n"
     ]
    }
   ],
   "source": [
    "print(x_test_err)\n",
    "print(y_test_err)"
   ]
  },
  {
   "cell_type": "markdown",
   "id": "7a568685",
   "metadata": {},
   "source": [
    "### 모델 구성"
   ]
  },
  {
   "cell_type": "code",
   "execution_count": 41,
   "id": "bcc542d1",
   "metadata": {},
   "outputs": [],
   "source": [
    "pred_s_rmsx_err = lstm_model.predict(x_test_err)  # 테스트 데이터셋으로 예측(정규화값)\n",
    "pred_s_rmsx_err = scaler_err.inverse_transform(pred_s_rmsx_err)  # 정규화데이터로 역변환"
   ]
  },
  {
   "cell_type": "code",
   "execution_count": 43,
   "id": "7cac1d88",
   "metadata": {},
   "outputs": [
    {
     "data": {
      "text/plain": [
       "(1001, 1)"
      ]
     },
     "execution_count": 43,
     "metadata": {},
     "output_type": "execute_result"
    }
   ],
   "source": [
    "pred_s_rmsx_err.shape"
   ]
  },
  {
   "cell_type": "code",
   "execution_count": 44,
   "id": "2995dfcf",
   "metadata": {},
   "outputs": [
    {
     "name": "stdout",
     "output_type": "stream",
     "text": [
      "2.411818950043334\n"
     ]
    }
   ],
   "source": [
    "test_data_err = final_data_err[0:]\n",
    "# 차원 일치 후 비교.\n",
    "test_data_err[10:,0]\n",
    "pred_s_rmsx_err[:,0]  # 예측\n",
    "\n",
    "# MAPE (Mean Absolute Percentage Error)\n",
    "print((np.mean(np.abs(test_data_err[10:,0] - pred_s_rmsx_err[:,0]) / test_data_err[10:,0]) * 100))"
   ]
  },
  {
   "cell_type": "code",
   "execution_count": 45,
   "id": "71278d99",
   "metadata": {},
   "outputs": [
    {
     "data": {
      "text/plain": [
       "array([[0.4747],\n",
       "       [0.48144],\n",
       "       [0.4738],\n",
       "       ...,\n",
       "       [1.58261],\n",
       "       [1.59269],\n",
       "       [1.61124]], dtype=object)"
      ]
     },
     "execution_count": 45,
     "metadata": {},
     "output_type": "execute_result"
    }
   ],
   "source": [
    "test_data_err"
   ]
  },
  {
   "cell_type": "code",
   "execution_count": 46,
   "id": "8c4b0a26",
   "metadata": {},
   "outputs": [
    {
     "data": {
      "text/plain": [
       "array([[0.49015173],\n",
       "       [0.49243128],\n",
       "       [0.4943035 ],\n",
       "       ...,\n",
       "       [1.5373602 ],\n",
       "       [1.5417032 ],\n",
       "       [1.5489708 ]], dtype=float32)"
      ]
     },
     "execution_count": 46,
     "metadata": {},
     "output_type": "execute_result"
    }
   ],
   "source": [
    "pred_s_rmsx_err"
   ]
  },
  {
   "cell_type": "code",
   "execution_count": 47,
   "id": "83e8e674",
   "metadata": {},
   "outputs": [
    {
     "data": {
      "image/png": "[encoded data removed]",
      "text/plain": [
       "<Figure size 640x480 with 1 Axes>"
      ]
     },
     "metadata": {},
     "output_type": "display_data"
    }
   ],
   "source": [
    "plt.plot(test_data_err[10:,0],label='test')  # 정답\n",
    "plt.plot(pred_s_rmsx_err[:,0], label='pred') # 예측\n",
    "plt.legend()\n",
    "plt.show()"
   ]
  }
 ],
 "metadata": {
  "kernelspec": {
   "display_name": "tf260gpu",
   "language": "python",
   "name": "tf260gpu"
  },
  "language_info": {
   "codemirror_mode": {
    "name": "ipython",
    "version": 3
   },
   "file_extension": ".py",
   "mimetype": "text/x-python",
   "name": "python",
   "nbconvert_exporter": "python",
   "pygments_lexer": "ipython3",
   "version": "3.9.15"
  }
 },
 "nbformat": 4,
 "nbformat_minor": 5
}
