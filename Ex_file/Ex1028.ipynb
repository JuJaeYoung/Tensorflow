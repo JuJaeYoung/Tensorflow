{
 "cells": [
  {
   "cell_type": "code",
   "execution_count": 1,
   "id": "0d824dff",
   "metadata": {},
   "outputs": [],
   "source": [
    "# Module 선언 및 초기화\n",
    "import pandas as pd\n",
    "\n",
    "import numpy as np\n",
    "\n",
    "import matplotlib.pyplot as plt\n",
    "%matplotlib inline\n",
    "\n",
    "import tensorflow as tf\n",
    "\n",
    "import seaborn as sns\n",
    "sns.set(style=\"darkgrid\")\n",
    "\n",
    "from sklearn.model_selection import train_test_split\n",
    "\n",
    "from tensorflow.keras.layers import Input, Dense, Activation, Dropout\n",
    "from tensorflow.keras.models import Model"
   ]
  },
  {
   "cell_type": "code",
   "execution_count": 2,
   "id": "e00855ff",
   "metadata": {},
   "outputs": [],
   "source": [
    "cols = ['price', 'maint', 'doors', 'persons', 'lug_capacity', 'safety', 'output']\n",
    "cars = pd.read_csv(\"C:\\AI\\car_evaluation.csv\", names = cols, header = None)"
   ]
  },
  {
   "cell_type": "code",
   "execution_count": 3,
   "id": "b87e9f9a",
   "metadata": {},
   "outputs": [
    {
     "data": {
      "text/html": [
       "<div>\n",
       "<style scoped>\n",
       "    .dataframe tbody tr th:only-of-type {\n",
       "        vertical-align: middle;\n",
       "    }\n",
       "\n",
       "    .dataframe tbody tr th {\n",
       "        vertical-align: top;\n",
       "    }\n",
       "\n",
       "    .dataframe thead th {\n",
       "        text-align: right;\n",
       "    }\n",
       "</style>\n",
       "<table border=\"1\" class=\"dataframe\">\n",
       "  <thead>\n",
       "    <tr style=\"text-align: right;\">\n",
       "      <th></th>\n",
       "      <th>price</th>\n",
       "      <th>maint</th>\n",
       "      <th>doors</th>\n",
       "      <th>persons</th>\n",
       "      <th>lug_capacity</th>\n",
       "      <th>safety</th>\n",
       "      <th>output</th>\n",
       "    </tr>\n",
       "  </thead>\n",
       "  <tbody>\n",
       "    <tr>\n",
       "      <th>0</th>\n",
       "      <td>vhigh</td>\n",
       "      <td>vhigh</td>\n",
       "      <td>2</td>\n",
       "      <td>2</td>\n",
       "      <td>small</td>\n",
       "      <td>low</td>\n",
       "      <td>unacc</td>\n",
       "    </tr>\n",
       "    <tr>\n",
       "      <th>1</th>\n",
       "      <td>vhigh</td>\n",
       "      <td>vhigh</td>\n",
       "      <td>2</td>\n",
       "      <td>2</td>\n",
       "      <td>small</td>\n",
       "      <td>med</td>\n",
       "      <td>unacc</td>\n",
       "    </tr>\n",
       "    <tr>\n",
       "      <th>2</th>\n",
       "      <td>vhigh</td>\n",
       "      <td>vhigh</td>\n",
       "      <td>2</td>\n",
       "      <td>2</td>\n",
       "      <td>small</td>\n",
       "      <td>high</td>\n",
       "      <td>unacc</td>\n",
       "    </tr>\n",
       "    <tr>\n",
       "      <th>3</th>\n",
       "      <td>vhigh</td>\n",
       "      <td>vhigh</td>\n",
       "      <td>2</td>\n",
       "      <td>2</td>\n",
       "      <td>med</td>\n",
       "      <td>low</td>\n",
       "      <td>unacc</td>\n",
       "    </tr>\n",
       "    <tr>\n",
       "      <th>4</th>\n",
       "      <td>vhigh</td>\n",
       "      <td>vhigh</td>\n",
       "      <td>2</td>\n",
       "      <td>2</td>\n",
       "      <td>med</td>\n",
       "      <td>med</td>\n",
       "      <td>unacc</td>\n",
       "    </tr>\n",
       "  </tbody>\n",
       "</table>\n",
       "</div>"
      ],
      "text/plain": [
       "   price  maint doors persons lug_capacity safety output\n",
       "0  vhigh  vhigh     2       2        small    low  unacc\n",
       "1  vhigh  vhigh     2       2        small    med  unacc\n",
       "2  vhigh  vhigh     2       2        small   high  unacc\n",
       "3  vhigh  vhigh     2       2          med    low  unacc\n",
       "4  vhigh  vhigh     2       2          med    med  unacc"
      ]
     },
     "execution_count": 3,
     "metadata": {},
     "output_type": "execute_result"
    }
   ],
   "source": [
    "cars.head()"
   ]
  },
  {
   "cell_type": "code",
   "execution_count": 4,
   "id": "1baf0c63",
   "metadata": {},
   "outputs": [
    {
     "name": "stdout",
     "output_type": "stream",
     "text": [
      "   price  maint doors persons lug_capacity safety output\n",
      "0  vhigh  vhigh     2       2        small    low  unacc\n",
      "1  vhigh  vhigh     2       2        small    med  unacc\n",
      "2  vhigh  vhigh     2       2        small   high  unacc\n",
      "3  vhigh  vhigh     2       2          med    low  unacc\n",
      "4  vhigh  vhigh     2       2          med    med  unacc\n"
     ]
    }
   ],
   "source": [
    "print(cars.head())"
   ]
  },
  {
   "cell_type": "code",
   "execution_count": 5,
   "id": "d582f55a",
   "metadata": {},
   "outputs": [
    {
     "data": {
      "text/plain": [
       "[6.4, 4.8]"
      ]
     },
     "execution_count": 5,
     "metadata": {},
     "output_type": "execute_result"
    }
   ],
   "source": [
    "plot_size = plt.rcParams[\"figure.figsize\"]  # 그래프 출력영역 변수 생성\n",
    "plot_size  # 기본 크기 [6.4 , 4.8]"
   ]
  },
  {
   "cell_type": "code",
   "execution_count": 6,
   "id": "96b6b9a0",
   "metadata": {},
   "outputs": [
    {
     "data": {
      "text/plain": [
       "[8, 6]"
      ]
     },
     "execution_count": 6,
     "metadata": {},
     "output_type": "execute_result"
    }
   ],
   "source": [
    "plot_size[0] = 8\n",
    "plot_size[1] = 6 \n",
    "plt.rcParams[\"figure.figsize\"] = plot_size  # 수정된 크기 [8 , 6]\n",
    "plot_size"
   ]
  },
  {
   "cell_type": "code",
   "execution_count": 7,
   "id": "0a52e5e9",
   "metadata": {},
   "outputs": [
    {
     "data": {
      "image/png": "[encoded data removed]",
      "text/plain": [
       "<Figure size 800x600 with 1 Axes>"
      ]
     },
     "metadata": {},
     "output_type": "display_data"
    }
   ],
   "source": [
    "cars.output.value_counts().plot(kind='pie', autopct='%0.05f%%', colors=['lightblue', \n",
    "                        'lightgreen', 'orange', 'pink'], explode=(0.05, 0.05, 0.05, 0.05))\n",
    "plt.show()"
   ]
  },
  {
   "cell_type": "markdown",
   "id": "acc7f05e",
   "metadata": {},
   "source": [
    "### 원-핫 인코딩\n",
    "- 정답 데이터만 1로 처리하는 방법\n",
    "- get_dummies"
   ]
  },
  {
   "cell_type": "code",
   "execution_count": 8,
   "id": "6382edb6",
   "metadata": {},
   "outputs": [],
   "source": [
    "price = pd.get_dummies(cars.price, prefix='price')\n",
    "maint = pd.get_dummies(cars.maint, prefix='maint')\n",
    "doors = pd.get_dummies(cars.doors, prefix='doors')\n",
    "persons = pd.get_dummies(cars.persons, prefix='persons')\n",
    "lug_capacity = pd.get_dummies(cars.lug_capacity, prefix='lug_capacity')\n",
    "safety = pd.get_dummies(cars.safety, prefix='safety')\n",
    "labels = pd.get_dummies(cars.output, prefix='condition')  # 정답"
   ]
  },
  {
   "cell_type": "code",
   "execution_count": 9,
   "id": "c88dbc33",
   "metadata": {},
   "outputs": [],
   "source": [
    "x = pd.concat([price, maint, doors, persons, lug_capacity, safety], axis=1)  # axis : 합치는 방향(0 : 행단위, 1 : 열단위)\n",
    "y = labels.values  # 정답데이터 생성"
   ]
  },
  {
   "cell_type": "code",
   "execution_count": 10,
   "id": "ee2454e0",
   "metadata": {},
   "outputs": [],
   "source": [
    "# 훈련입력, 테스트입력, 훈련정답, 테스트정답 순으로 반환됨\n",
    "x_train, x_test, y_train, y_test = train_test_split(x, y, test_size=0.20, random_state=42)"
   ]
  },
  {
   "cell_type": "code",
   "execution_count": 11,
   "id": "6955dcd5",
   "metadata": {},
   "outputs": [
    {
     "name": "stdout",
     "output_type": "stream",
     "text": [
      "(1382, 21)\n",
      "(346, 21)\n",
      "(1382, 4)\n",
      "(346, 4)\n"
     ]
    }
   ],
   "source": [
    "print(x_train.shape)  # 데이터의 형식\n",
    "print(x_test.shape)   \n",
    "print(y_train.shape)  \n",
    "print(y_test.shape)   "
   ]
  },
  {
   "cell_type": "code",
   "execution_count": 12,
   "id": "72cc9456",
   "metadata": {},
   "outputs": [
    {
     "name": "stdout",
     "output_type": "stream",
     "text": [
      "1728\n",
      "21\n"
     ]
    }
   ],
   "source": [
    "print(x.shape[0])\n",
    "print(x.shape[1])"
   ]
  },
  {
   "cell_type": "markdown",
   "id": "3a265281",
   "metadata": {},
   "source": [
    "* Dense : 완전연결함수 (신경망 구조에서 완전히 다 연결된 구조)\n",
    "* input_layer -> dense_layer_1 -> dense_layer_2 -> output\n",
    "* softmax : 분류기법에서 가장 높은 수치 채택. (0.55 / 0.40 / 0.05 => 0.55 채택)"
   ]
  },
  {
   "cell_type": "code",
   "execution_count": 13,
   "id": "5922f0ea",
   "metadata": {},
   "outputs": [
    {
     "name": "stdout",
     "output_type": "stream",
     "text": [
      "Model: \"functional_1\"\n",
      "_________________________________________________________________\n",
      "Layer (type)                 Output Shape              Param #   \n",
      "=================================================================\n",
      "input_1 (InputLayer)         [(None, 21)]              0         \n",
      "_________________________________________________________________\n",
      "dense (Dense)                (None, 15)                330       \n",
      "_________________________________________________________________\n",
      "dense_1 (Dense)              (None, 10)                160       \n",
      "_________________________________________________________________\n",
      "dense_2 (Dense)              (None, 4)                 44        \n",
      "=================================================================\n",
      "Total params: 534\n",
      "Trainable params: 534\n",
      "Non-trainable params: 0\n",
      "_________________________________________________________________\n"
     ]
    }
   ],
   "source": [
    "# 입력층 구성\n",
    "input_layer = Input(shape=(x.shape[1], ))\n",
    "\n",
    "# 은닉층 구성\n",
    "dense_layer_1 = Dense(15, activation='relu')(input_layer)         # 입력층 - 은닉1층 연결\n",
    "dense_layer_2 = Dense(10, activation='relu')(dense_layer_1)       # 은닉1층 - 은닉2층 연결\n",
    "\n",
    "# 출력층 구성\n",
    "output = Dense(y.shape[1], activation='softmax')(dense_layer_2)   # 은닉2층 - 출력층 연결\n",
    "\n",
    "model = Model(inputs=input_layer, outputs=output)\n",
    "\n",
    "model.compile(loss='categorical_crossentropy', optimizer='adam', metrics=['acc'])\n",
    "model.summary()  # model 요약"
   ]
  },
  {
   "cell_type": "markdown",
   "id": "ebedfbab",
   "metadata": {},
   "source": [
    "* batch_size : 가중치 업데이트 할 데이터의 묶음\n",
    "* epochs : 반복 횟수\n",
    "* verbose : 정보의 양(수준 = 0, 1, 2)\n",
    "* validation_split : 검증용으로 추출할 데이터의 양\n",
    "* loss : 손실 / acc : 정확 / val_loss : 검증용 손실 / val_acc : 검증용 정확"
   ]
  },
  {
   "cell_type": "code",
   "execution_count": 14,
   "id": "639ca093",
   "metadata": {
    "scrolled": true
   },
   "outputs": [
    {
     "name": "stdout",
     "output_type": "stream",
     "text": [
      "Epoch 1/50\n",
      "139/139 [==============================] - 0s 2ms/step - loss: 1.0030 - acc: 0.5448 - val_loss: 0.8980 - val_acc: 0.6498\n",
      "Epoch 2/50\n",
      "139/139 [==============================] - 0s 775us/step - loss: 0.7267 - acc: 0.7195 - val_loss: 0.7894 - val_acc: 0.6498\n",
      "Epoch 3/50\n",
      "139/139 [==============================] - 0s 845us/step - loss: 0.5984 - acc: 0.7195 - val_loss: 0.6396 - val_acc: 0.6715\n",
      "Epoch 4/50\n",
      "139/139 [==============================] - 0s 783us/step - loss: 0.4493 - acc: 0.7729 - val_loss: 0.4825 - val_acc: 0.7762\n",
      "Epoch 5/50\n",
      "139/139 [==============================] - 0s 723us/step - loss: 0.3350 - acc: 0.8706 - val_loss: 0.3855 - val_acc: 0.8412\n",
      "Epoch 6/50\n",
      "139/139 [==============================] - 0s 805us/step - loss: 0.2774 - acc: 0.8959 - val_loss: 0.3504 - val_acc: 0.8375\n",
      "Epoch 7/50\n",
      "139/139 [==============================] - 0s 727us/step - loss: 0.2450 - acc: 0.9050 - val_loss: 0.3149 - val_acc: 0.8736\n",
      "Epoch 8/50\n",
      "139/139 [==============================] - 0s 746us/step - loss: 0.2219 - acc: 0.9104 - val_loss: 0.2878 - val_acc: 0.8845\n",
      "Epoch 9/50\n",
      "139/139 [==============================] - 0s 723us/step - loss: 0.2043 - acc: 0.9195 - val_loss: 0.2737 - val_acc: 0.8773\n",
      "Epoch 10/50\n",
      "139/139 [==============================] - 0s 761us/step - loss: 0.1889 - acc: 0.9195 - val_loss: 0.2631 - val_acc: 0.8773\n",
      "Epoch 11/50\n",
      "139/139 [==============================] - 0s 737us/step - loss: 0.1797 - acc: 0.9231 - val_loss: 0.2516 - val_acc: 0.8845\n",
      "Epoch 12/50\n",
      "139/139 [==============================] - 0s 756us/step - loss: 0.1672 - acc: 0.9312 - val_loss: 0.2330 - val_acc: 0.8953\n",
      "Epoch 13/50\n",
      "139/139 [==============================] - 0s 740us/step - loss: 0.1551 - acc: 0.9430 - val_loss: 0.2463 - val_acc: 0.8881\n",
      "Epoch 14/50\n",
      "139/139 [==============================] - 0s 711us/step - loss: 0.1465 - acc: 0.9394 - val_loss: 0.2290 - val_acc: 0.8953\n",
      "Epoch 15/50\n",
      "139/139 [==============================] - 0s 744us/step - loss: 0.1397 - acc: 0.9538 - val_loss: 0.2262 - val_acc: 0.8989\n",
      "Epoch 16/50\n",
      "139/139 [==============================] - 0s 740us/step - loss: 0.1324 - acc: 0.9475 - val_loss: 0.2191 - val_acc: 0.8917\n",
      "Epoch 17/50\n",
      "139/139 [==============================] - 0s 734us/step - loss: 0.1230 - acc: 0.9575 - val_loss: 0.2012 - val_acc: 0.9134\n",
      "Epoch 18/50\n",
      "139/139 [==============================] - 0s 700us/step - loss: 0.1173 - acc: 0.9602 - val_loss: 0.2044 - val_acc: 0.9025\n",
      "Epoch 19/50\n",
      "139/139 [==============================] - 0s 691us/step - loss: 0.1134 - acc: 0.9647 - val_loss: 0.1908 - val_acc: 0.9242\n",
      "Epoch 20/50\n",
      "139/139 [==============================] - 0s 746us/step - loss: 0.1057 - acc: 0.9647 - val_loss: 0.1944 - val_acc: 0.9206\n",
      "Epoch 21/50\n",
      "139/139 [==============================] - 0s 739us/step - loss: 0.1001 - acc: 0.9729 - val_loss: 0.1885 - val_acc: 0.9278\n",
      "Epoch 22/50\n",
      "139/139 [==============================] - 0s 737us/step - loss: 0.0943 - acc: 0.9710 - val_loss: 0.1785 - val_acc: 0.9278\n",
      "Epoch 23/50\n",
      "139/139 [==============================] - 0s 726us/step - loss: 0.0892 - acc: 0.9774 - val_loss: 0.1662 - val_acc: 0.9242\n",
      "Epoch 24/50\n",
      "139/139 [==============================] - 0s 737us/step - loss: 0.0857 - acc: 0.9792 - val_loss: 0.1770 - val_acc: 0.9314\n",
      "Epoch 25/50\n",
      "139/139 [==============================] - 0s 781us/step - loss: 0.0816 - acc: 0.9747 - val_loss: 0.1640 - val_acc: 0.9386\n",
      "Epoch 26/50\n",
      "139/139 [==============================] - 0s 713us/step - loss: 0.0783 - acc: 0.9792 - val_loss: 0.1616 - val_acc: 0.9386\n",
      "Epoch 27/50\n",
      "139/139 [==============================] - 0s 724us/step - loss: 0.0746 - acc: 0.9783 - val_loss: 0.1503 - val_acc: 0.9350\n",
      "Epoch 28/50\n",
      "139/139 [==============================] - 0s 764us/step - loss: 0.0701 - acc: 0.9864 - val_loss: 0.1561 - val_acc: 0.9350\n",
      "Epoch 29/50\n",
      "139/139 [==============================] - 0s 729us/step - loss: 0.0668 - acc: 0.9846 - val_loss: 0.1515 - val_acc: 0.9314\n",
      "Epoch 30/50\n",
      "139/139 [==============================] - 0s 722us/step - loss: 0.0627 - acc: 0.9837 - val_loss: 0.1585 - val_acc: 0.9278\n",
      "Epoch 31/50\n",
      "139/139 [==============================] - 0s 741us/step - loss: 0.0608 - acc: 0.9828 - val_loss: 0.1364 - val_acc: 0.9458\n",
      "Epoch 32/50\n",
      "139/139 [==============================] - 0s 735us/step - loss: 0.0582 - acc: 0.9873 - val_loss: 0.1499 - val_acc: 0.9386\n",
      "Epoch 33/50\n",
      "139/139 [==============================] - 0s 711us/step - loss: 0.0542 - acc: 0.9873 - val_loss: 0.1375 - val_acc: 0.9495\n",
      "Epoch 34/50\n",
      "139/139 [==============================] - 0s 722us/step - loss: 0.0536 - acc: 0.9873 - val_loss: 0.1298 - val_acc: 0.9422\n",
      "Epoch 35/50\n",
      "139/139 [==============================] - 0s 734us/step - loss: 0.0503 - acc: 0.9891 - val_loss: 0.1694 - val_acc: 0.9134\n",
      "Epoch 36/50\n",
      "139/139 [==============================] - 0s 711us/step - loss: 0.0507 - acc: 0.9891 - val_loss: 0.1299 - val_acc: 0.9386\n",
      "Epoch 37/50\n",
      "139/139 [==============================] - 0s 766us/step - loss: 0.0468 - acc: 0.9910 - val_loss: 0.1262 - val_acc: 0.9422\n",
      "Epoch 38/50\n",
      "139/139 [==============================] - 0s 722us/step - loss: 0.0439 - acc: 0.9928 - val_loss: 0.1307 - val_acc: 0.9350\n",
      "Epoch 39/50\n",
      "139/139 [==============================] - 0s 751us/step - loss: 0.0415 - acc: 0.9910 - val_loss: 0.1404 - val_acc: 0.9242\n",
      "Epoch 40/50\n",
      "139/139 [==============================] - 0s 742us/step - loss: 0.0410 - acc: 0.9928 - val_loss: 0.1266 - val_acc: 0.9422\n",
      "Epoch 41/50\n",
      "139/139 [==============================] - 0s 770us/step - loss: 0.0393 - acc: 0.9928 - val_loss: 0.1480 - val_acc: 0.9134\n",
      "Epoch 42/50\n",
      "139/139 [==============================] - 0s 713us/step - loss: 0.0371 - acc: 0.9928 - val_loss: 0.1177 - val_acc: 0.9531\n",
      "Epoch 43/50\n",
      "139/139 [==============================] - 0s 723us/step - loss: 0.0346 - acc: 0.9946 - val_loss: 0.1190 - val_acc: 0.9422\n",
      "Epoch 44/50\n",
      "139/139 [==============================] - 0s 742us/step - loss: 0.0342 - acc: 0.9946 - val_loss: 0.0995 - val_acc: 0.9567\n",
      "Epoch 45/50\n",
      "139/139 [==============================] - 0s 711us/step - loss: 0.0328 - acc: 0.9946 - val_loss: 0.1099 - val_acc: 0.9495\n",
      "Epoch 46/50\n",
      "139/139 [==============================] - 0s 725us/step - loss: 0.0300 - acc: 0.9937 - val_loss: 0.1154 - val_acc: 0.9603\n",
      "Epoch 47/50\n",
      "139/139 [==============================] - 0s 738us/step - loss: 0.0283 - acc: 0.9973 - val_loss: 0.1097 - val_acc: 0.9603\n",
      "Epoch 48/50\n",
      "139/139 [==============================] - 0s 760us/step - loss: 0.0275 - acc: 0.9964 - val_loss: 0.1046 - val_acc: 0.9567\n",
      "Epoch 49/50\n",
      "139/139 [==============================] - 0s 760us/step - loss: 0.0258 - acc: 0.9955 - val_loss: 0.0970 - val_acc: 0.9603\n",
      "Epoch 50/50\n",
      "139/139 [==============================] - 0s 714us/step - loss: 0.0249 - acc: 0.9982 - val_loss: 0.1089 - val_acc: 0.9567\n"
     ]
    }
   ],
   "source": [
    "# 에포크마다 20% 를 추출하여 검증\n",
    "history = model.fit(x_train, y_train, batch_size=8, epochs=50, verbose=1, validation_split=0.2)"
   ]
  },
  {
   "cell_type": "code",
   "execution_count": 17,
   "id": "dc350002",
   "metadata": {},
   "outputs": [
    {
     "name": "stdout",
     "output_type": "stream",
     "text": [
      "11/11 [==============================] - 0s 730us/step - loss: 0.1063 - acc: 0.9682\n",
      "Test Score: 0.1063428446650505\n",
      "Test Accuracy: 0.9682080745697021\n"
     ]
    }
   ],
   "source": [
    "score = model.evaluate(x_test, y_test, verbose=1)   # model 평가\n",
    "# loss와 accuarcy 추출\n",
    "print(\"Test Score:\", score[0])\n",
    "print(\"Test Accuracy:\", score[1])"
   ]
  }
 ],
 "metadata": {
  "kernelspec": {
   "display_name": "tf2_book",
   "language": "python",
   "name": "tf2_book"
  },
  "language_info": {
   "codemirror_mode": {
    "name": "ipython",
    "version": 3
   },
   "file_extension": ".py",
   "mimetype": "text/x-python",
   "name": "python",
   "nbconvert_exporter": "python",
   "pygments_lexer": "ipython3",
   "version": "3.8.13"
  }
 },
 "nbformat": 4,
 "nbformat_minor": 5
}
